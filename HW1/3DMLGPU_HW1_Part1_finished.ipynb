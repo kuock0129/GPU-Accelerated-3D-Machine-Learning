version https://git-lfs.github.com/spec/v1
oid sha256:d00c09c42e64daf267a076956586d7dcdca56bc8c661ed54f39ae85301d8d527
size 20757333
